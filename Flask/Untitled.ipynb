{
 "cells": [
  {
   "cell_type": "code",
   "execution_count": 49,
   "id": "4cd149be-a76f-4f6a-91c9-7da6276c5c1b",
   "metadata": {},
   "outputs": [],
   "source": [
    "import pandas as pd # type: ignore"
   ]
  },
  {
   "cell_type": "code",
   "execution_count": 50,
   "id": "09187b31-3606-4c6d-b5d7-0eff0e4c63d2",
   "metadata": {},
   "outputs": [],
   "source": [
    "xls = pd.ExcelFile('DATABASE.xlsx')\n",
    "df1 = pd.read_excel(xls, 'PIT')\n",
    "df2 = pd.read_excel(xls, 'PT_Hx')\n",
    "df3 = pd.read_excel(xls, 'Para_clinic')\n",
    "df4 = pd.read_excel(xls, 'Laboratory')"
   ]
  },
  {
   "cell_type": "code",
   "execution_count": 51,
   "id": "a923bb1c",
   "metadata": {},
   "outputs": [],
   "source": [
    "def remove_last_4_digits(x):\n",
    "    return str(x)[:-6]\n",
    "df1['Date'] = df1['Date'].apply(remove_last_4_digits)\n",
    "df2['Date'] = df2['Date'].apply(remove_last_4_digits)\n",
    "df3['Date'] = df3['Date'].apply(remove_last_4_digits)\n",
    "df4['Date'] = df4['Date'].apply(remove_last_4_digits)"
   ]
  },
  {
   "cell_type": "code",
   "execution_count": 52,
   "id": "39d11d78",
   "metadata": {},
   "outputs": [],
   "source": [
    "import random\n",
    "import string\n",
    "\n",
    "code_to_file_code = {}\n",
    "\n",
    "def generate_unique_code(length):\n",
    "    digits = string.digits  # '0123456789'\n",
    "    return ''.join(random.choices(digits, k=length))\n",
    "\n",
    "def fill_file_code(row):\n",
    "    code = row['Code']\n",
    "    if pd.isna(row['file_code']):\n",
    "        if code in code_to_file_code:\n",
    "            row['file_code'] = code_to_file_code[code]\n",
    "        else:\n",
    "            length = random.choice([6, 7])\n",
    "            new_code = generate_unique_code(length)\n",
    "            code_to_file_code[code] = new_code\n",
    "            row['file_code'] = new_code\n",
    "    return row\n",
    "\n",
    "df1 = df1.apply(fill_file_code, axis=1)\n"
   ]
  },
  {
   "cell_type": "code",
   "execution_count": 53,
   "id": "001d40ae-822f-450f-9c03-8cbf0fca97dd",
   "metadata": {},
   "outputs": [],
   "source": [
    "merged_df = pd.DataFrame()\n",
    "for code in df1['Code'].unique():\n",
    "    df1_filtered = df1[df1['Code'] == code]\n",
    "    df2_filtered = df2[df2['Code'] == code]\n",
    "    for index, row2 in df2_filtered.iterrows():\n",
    "        merged_row = pd.concat([df1_filtered.iloc[0], row2.drop('Code')])\n",
    "        merged_row['Code'] = code\n",
    "        merged_df = pd.concat([merged_df, merged_row.to_frame().T], ignore_index=True)\n",
    "merged_df.to_excel('df.xlsx',index=True)"
   ]
  }
 ],
 "metadata": {
  "kernelspec": {
   "display_name": "Python 3 (ipykernel)",
   "language": "python",
   "name": "python3"
  },
  "language_info": {
   "codemirror_mode": {
    "name": "ipython",
    "version": 3
   },
   "file_extension": ".py",
   "mimetype": "text/x-python",
   "name": "python",
   "nbconvert_exporter": "python",
   "pygments_lexer": "ipython3",
   "version": "3.12.3"
  }
 },
 "nbformat": 4,
 "nbformat_minor": 5
}
